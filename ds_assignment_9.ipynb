{
 "cells": [
  {
   "cell_type": "markdown",
   "id": "362f5c62-97d8-42da-9e8d-0487644dfc74",
   "metadata": {},
   "source": [
    "Q1. What is Exception in python? Write the differene between Exeptions syntax errors\n",
    " errors"
   ]
  },
  {
   "cell_type": "markdown",
   "id": "f9f9647b-a86a-48f9-8682-b07af3d0f463",
   "metadata": {},
   "source": [
    "Syntax Errors:\n",
    "\n",
    "Syntax errors occur during the parsing of code. They are related to the structure of the code and occur when the interpreter cannot understand the code.\n",
    "Examples of syntax errors include missing colons at the end of statements, incorrect indentation, or using an invalid keyword."
   ]
  },
  {
   "cell_type": "code",
   "execution_count": 1,
   "id": "3bf23e50-18c1-4028-b79d-3310af8f71bb",
   "metadata": {},
   "outputs": [
    {
     "ename": "SyntaxError",
     "evalue": "expected ':' (347509479.py, line 2)",
     "output_type": "error",
     "traceback": [
      "\u001b[1;36m  Cell \u001b[1;32mIn[1], line 2\u001b[1;36m\u001b[0m\n\u001b[1;33m    if True  # Missing colon\u001b[0m\n\u001b[1;37m             ^\u001b[0m\n\u001b[1;31mSyntaxError\u001b[0m\u001b[1;31m:\u001b[0m expected ':'\n"
     ]
    }
   ],
   "source": [
    "# Syntax Error examples\n",
    "if True  # Missing colon\n",
    "    print(\"Hello\")\n",
    "\n",
    "# OR\n",
    "\n",
    "print \"Hello\"  # Missing parentheses for print in Python 3\n"
   ]
  },
  {
   "cell_type": "markdown",
   "id": "997ce08c-b324-45ab-8daf-b153245f947c",
   "metadata": {},
   "source": [
    "Exceptions:\n",
    "\n",
    "Exceptions occur during the execution of the program. They are not related to the code structure but to the runtime behavior of the program.\n",
    "Examples of exceptions include trying to access an index that doesn't exist in a list (IndexError), dividing by zero (ZeroDivisionError), or trying to open a non-existent file (FileNotFoundError)."
   ]
  },
  {
   "cell_type": "code",
   "execution_count": 2,
   "id": "9f4afd9f-7186-43cc-a5c3-7fa86d367274",
   "metadata": {},
   "outputs": [
    {
     "ename": "IndexError",
     "evalue": "list index out of range",
     "output_type": "error",
     "traceback": [
      "\u001b[1;31m---------------------------------------------------------------------------\u001b[0m",
      "\u001b[1;31mIndexError\u001b[0m                                Traceback (most recent call last)",
      "Cell \u001b[1;32mIn[2], line 3\u001b[0m\n\u001b[0;32m      1\u001b[0m \u001b[38;5;66;03m# Exception examples\u001b[39;00m\n\u001b[0;32m      2\u001b[0m numbers \u001b[38;5;241m=\u001b[39m [\u001b[38;5;241m1\u001b[39m, \u001b[38;5;241m2\u001b[39m, \u001b[38;5;241m3\u001b[39m]\n\u001b[1;32m----> 3\u001b[0m \u001b[38;5;28mprint\u001b[39m(\u001b[43mnumbers\u001b[49m\u001b[43m[\u001b[49m\u001b[38;5;241;43m5\u001b[39;49m\u001b[43m]\u001b[49m)  \u001b[38;5;66;03m# Raises an IndexError\u001b[39;00m\n\u001b[0;32m      4\u001b[0m \u001b[38;5;66;03m# OR\u001b[39;00m\n\u001b[0;32m      5\u001b[0m result \u001b[38;5;241m=\u001b[39m \u001b[38;5;241m10\u001b[39m \u001b[38;5;241m/\u001b[39m \u001b[38;5;241m0\u001b[39m  \u001b[38;5;66;03m# Raises a ZeroDivisionError\u001b[39;00m\n",
      "\u001b[1;31mIndexError\u001b[0m: list index out of range"
     ]
    }
   ],
   "source": [
    "# Exception examples\n",
    "numbers = [1, 2, 3]\n",
    "print(numbers[5])  # Raises an IndexError\n",
    "# OR\n",
    "result = 10 / 0  # Raises a ZeroDivisionError"
   ]
  },
  {
   "cell_type": "markdown",
   "id": "7816edfc-3c39-46c4-9c71-a1e2b8c13b38",
   "metadata": {},
   "source": [
    "Q2 what happens when an exception is not handled? Explain with an example."
   ]
  },
  {
   "cell_type": "markdown",
   "id": "fabdac20-271a-4c5f-919c-6c392bcdc33a",
   "metadata": {},
   "source": [
    "Certainly! In Python, when an exception is not handled, it leads to a program termination, and an error message is displayed. Here's a simplified explanation:\n",
    "\n",
    "In Python, code is executed line by line. When an error, known as an exception, occurs during the execution of a line, and that exception is not handled using a try/except block, the program stops immediately. Python displays an error message that includes information about the type of exception and the location in the code where the error occurred.\n",
    "\n",
    "For example:"
   ]
  },
  {
   "cell_type": "code",
   "execution_count": 6,
   "id": "caaca9ea-2710-4137-a648-f117e575e67c",
   "metadata": {},
   "outputs": [
    {
     "name": "stdout",
     "output_type": "stream",
     "text": [
      "error: division by zero\n"
     ]
    }
   ],
   "source": [
    "try : \n",
    "    2/0\n",
    "except Exception as e:\n",
    "    print('error:',e)\n",
    "        "
   ]
  },
  {
   "cell_type": "markdown",
   "id": "cfe7b826-ddf6-4a7b-a1ad-2ca20e98092a",
   "metadata": {},
   "source": [
    "Q3.Which python statements are used to catch and handle Exceptions? Explain with example \n",
    "\n"
   ]
  },
  {
   "cell_type": "markdown",
   "id": "b2fbff5a-fa21-40f5-a93a-d5323ce27918",
   "metadata": {},
   "source": [
    "In Python, the try and except statements are used to catch and handle exceptions. The basic syntax is as follows:\n",
    "Here's a breakdown of how the try/except statements work:\n",
    "\n",
    "The try block contains the code that might raise an exception.\n",
    "If an exception occurs in the try block, it is caught by the corresponding except block.\n",
    "The except block specifies the type of exception to catch (e.g., ZeroDivisionError, FileNotFoundError) and includes code to handle the exception.\n",
    "The as e part allows you to capture the exception object, which can be useful for obtaining additional information about the exception.\n"
   ]
  },
  {
   "cell_type": "code",
   "execution_count": 15,
   "id": "abfca952-b390-49a4-8035-ef2593689afe",
   "metadata": {},
   "outputs": [
    {
     "name": "stdout",
     "output_type": "stream",
     "text": [
      "Enter a number:  d\n"
     ]
    },
    {
     "name": "stdout",
     "output_type": "stream",
     "text": [
      "Error: invalid literal for int() with base 10: 'd'. Please enter a valid number.\n",
      "This block always executes.\n"
     ]
    }
   ],
   "source": [
    "try:\n",
    "    x = int(input(\"Enter a number: \"))\n",
    "    y = 10 / x  # This line might raise a ZeroDivisionError\n",
    "    print(f\"Result: {y}\")\n",
    "except ZeroDivisionError as e:\n",
    "    print(f\"Error: {e}. Cannot divide by zero.\")\n",
    "except ValueError as e:\n",
    "    print(f\"Error: {e}. Please enter a valid number.\")\n",
    "except Exception as e:\n",
    "    print(f\"An unexpected error occurred: {e}\")\n",
    "else:\n",
    "    print(\"No exceptions occurred.\")\n",
    "finally:\n",
    "    print(\"This block always executes.\")\n"
   ]
  },
  {
   "cell_type": "markdown",
   "id": "98dc62fe-9b17-44c0-b30c-767e76a85f50",
   "metadata": {},
   "source": [
    "Q4.Explin with an example:\n",
    "1.try and else \n",
    "2.finally\n",
    "3.raise"
   ]
  },
  {
   "cell_type": "markdown",
   "id": "50664467-387a-48a1-85cc-e5cc14164931",
   "metadata": {},
   "source": [
    "1. try and else:\n",
    "In this example, we'll use try and else to handle a division operation and print the result if no exception occurs."
   ]
  },
  {
   "cell_type": "code",
   "execution_count": null,
   "id": "27777731-0ce2-45bd-a491-69d7c1321ab1",
   "metadata": {},
   "outputs": [],
   "source": [
    "def divide_numbers(x, y):\n",
    "    try:\n",
    "        result = x / y\n",
    "    except ZeroDivisionError as e:\n",
    "        print(f\"Error: {e}. Cannot divide by zero.\")\n",
    "    else:\n",
    "        print(f\"Result of {x} divided by {y}: {result}\")\n",
    "\n",
    "# Example usage\n",
    "divide_numbers(10, 2)  # This will print the result\n",
    "divide_numbers(10, 0)  # This will print an error message"
   ]
  },
  {
   "cell_type": "markdown",
   "id": "7d393795-1ffb-45dc-be93-a842a635ab5b",
   "metadata": {},
   "source": [
    "The finally block is used for code that should be executed regardless of whether an exception occurred or not. It is commonly used for cleanup tasks."
   ]
  },
  {
   "cell_type": "code",
   "execution_count": 16,
   "id": "8830d11b-d7c1-4d89-a29d-55527a15290b",
   "metadata": {},
   "outputs": [
    {
     "name": "stdout",
     "output_type": "stream",
     "text": [
      "File content: Hello, this is a sample file.\n",
      "File closed.\n",
      "Error: [Errno 2] No such file or directory: 'nonexistent.txt'. The file 'nonexistent.txt' was not found.\n"
     ]
    }
   ],
   "source": [
    "def file_operation(filename):\n",
    "    try:\n",
    "        file = open(filename, 'r')\n",
    "        content = file.read()\n",
    "        print(f\"File content: {content}\")\n",
    "    except FileNotFoundError as e:\n",
    "        print(f\"Error: {e}. The file '{filename}' was not found.\")\n",
    "    finally:\n",
    "        if 'file' in locals() and not file.closed:\n",
    "            file.close()\n",
    "            print(\"File closed.\")\n",
    "\n",
    "# Example usage\n",
    "file_operation('example.txt')  # This will read and print the file content\n",
    "file_operation('nonexistent.txt')  # This will print an error message"
   ]
  },
  {
   "cell_type": "markdown",
   "id": "2504fe95-0ca1-4efe-b88a-97c9ee0c676e",
   "metadata": {},
   "source": [
    "|3. raise:\n",
    "The raise statement is used to explicitly raise an exception. Here's a simple example:"
   ]
  },
  {
   "cell_type": "code",
   "execution_count": 17,
   "id": "74eb227d-c421-4dbf-887e-3982bba49e16",
   "metadata": {},
   "outputs": [
    {
     "name": "stdout",
     "output_type": "stream",
     "text": [
      "Number is positive.\n",
      "Error: Number must be positive.\n"
     ]
    }
   ],
   "source": [
    "def check_positive_number(number):\n",
    "    try:\n",
    "        if number < 0:\n",
    "            raise ValueError(\"Number must be positive.\")\n",
    "        else:\n",
    "            print(\"Number is positive.\")\n",
    "    except ValueError as e:\n",
    "        print(f\"Error: {e}\")\n",
    "\n",
    "# Example usage\n",
    "check_positive_number(5)   # This will print \"Number is positive.\"\n",
    "check_positive_number(-2)  # This will print an error message"
   ]
  },
  {
   "cell_type": "markdown",
   "id": "9c99a2ab-8508-445c-ab7f-59ad3e686a62",
   "metadata": {},
   "source": [
    "Q5.What are Custom Exceptions in python? Why do we need Custom Exceptions? Explain with an example"
   ]
  },
  {
   "cell_type": "markdown",
   "id": "b17261c1-4af0-45ad-8bfe-4bd44afb5e61",
   "metadata": {},
   "source": [
    "\n",
    "Custom Exceptions in Python:\n",
    "\n",
    "Custom exceptions in Python are user-defined exception classes that extend the built-in Exception class. Creating custom exceptions allows developers to define specific error conditions in their code and raise these exceptions when necessary. By using custom exceptions, you can make your code more expressive and provide clear information about the nature of the error.\n",
    "\n",
    "Why do we need Custom Exceptions?\n",
    "\n",
    "Expressiveness: Custom exceptions help in making code more readable and expressive. They provide a meaningful and specific name to the error condition, making it easier for developers to understand what went wrong.\n",
    "\n",
    "Modularity: Custom exceptions promote modular design by allowing you to encapsulate error-handling logic in separate classes. This enhances code organization and maintainability.\n",
    "\n",
    "Debugging: When an error occurs, having a custom exception with a descriptive name can aid in debugging by quickly identifying the source of the issue."
   ]
  },
  {
   "cell_type": "code",
   "execution_count": 18,
   "id": "fe014e89-c7fd-450c-a056-3452a0c14337",
   "metadata": {},
   "outputs": [
    {
     "name": "stdout",
     "output_type": "stream",
     "text": [
      "Processing 1\n",
      "Processing 5\n",
      "Error: NegativeNumberError: -3 is a negative number. Positive numbers are expected.\n"
     ]
    }
   ],
   "source": [
    "class NegativeNumberError(Exception):\n",
    "    def __init__(self, value):\n",
    "        self.value = value\n",
    "        super().__init__(f\"NegativeNumberError: {value} is a negative number. Positive numbers are expected.\")\n",
    "\n",
    "def process_positive_numbers(numbers):\n",
    "    for num in numbers:\n",
    "        if num < 0:\n",
    "            raise NegativeNumberError(num)\n",
    "        else:\n",
    "            print(f\"Processing {num}\")\n",
    "\n",
    "# Example usage\n",
    "try:\n",
    "    numbers_to_process = [1, 5, -3, 8, -2, 10]\n",
    "    process_positive_numbers(numbers_to_process)\n",
    "except NegativeNumberError as e:\n",
    "    print(f\"Error: {e}\")\n"
   ]
  },
  {
   "cell_type": "markdown",
   "id": "0fd0efcf-a36f-42db-9222-f41b5f82cb9c",
   "metadata": {},
   "source": [
    "Q6.Create custom exception class. Use this class to handle an exception."
   ]
  },
  {
   "cell_type": "code",
   "execution_count": 14,
   "id": "fb8b664d-5051-4c4d-a2e0-47b8ed841b51",
   "metadata": {},
   "outputs": [
    {
     "name": "stdout",
     "output_type": "stream",
     "text": [
      "The entered roll_no is invalid 😈\n"
     ]
    }
   ],
   "source": [
    "class roll_number_error(Exception):\n",
    "    def __init__(self,msg):\n",
    "        self.msg=msg\n",
    "        \n",
    "def roll_number(roll_no):\n",
    "    if roll_no<0 or roll_no>1000:\n",
    "        raise roll_number_error(\"The entered roll_no is invalid\")\n",
    "try:\n",
    "    a=int(input())\n",
    "    roll_number(a)\n",
    "except roll_number_error as e:\n",
    "    print(e,'\\U0001F608')\n",
    "    "
   ]
  },
  {
   "cell_type": "code",
   "execution_count": null,
   "id": "98592842",
   "metadata": {},
   "outputs": [],
   "source": []
  }
 ],
 "metadata": {
  "kernelspec": {
   "display_name": "Python 3 (ipykernel)",
   "language": "python",
   "name": "python3"
  },
  "language_info": {
   "codemirror_mode": {
    "name": "ipython",
    "version": 3
   },
   "file_extension": ".py",
   "mimetype": "text/x-python",
   "name": "python",
   "nbconvert_exporter": "python",
   "pygments_lexer": "ipython3",
   "version": "3.11.4"
  }
 },
 "nbformat": 4,
 "nbformat_minor": 5
}
